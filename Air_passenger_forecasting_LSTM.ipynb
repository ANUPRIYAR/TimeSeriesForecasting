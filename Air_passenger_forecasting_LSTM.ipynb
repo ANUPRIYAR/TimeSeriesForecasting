{
  "nbformat": 4,
  "nbformat_minor": 0,
  "metadata": {
    "colab": {
      "name": "Air_passenger_forecasting_LSTM.ipynb",
      "provenance": [],
      "mount_file_id": "1gWoJO-FkqrZd_OVKsuBVnffbAiMv5th8",
      "authorship_tag": "ABX9TyPOyI+v9wuTncAdPOV0bHuM",
      "include_colab_link": true
    },
    "kernelspec": {
      "name": "python3",
      "display_name": "Python 3"
    }
  },
  "cells": [
    {
      "cell_type": "markdown",
      "metadata": {
        "id": "view-in-github",
        "colab_type": "text"
      },
      "source": [
        "<a href=\"https://colab.research.google.com/github/ANUPRIYAR/TimeSeriesForecasting/blob/main/Air_passenger_forecasting_LSTM.ipynb\" target=\"_parent\"><img src=\"https://colab.research.google.com/assets/colab-badge.svg\" alt=\"Open In Colab\"/></a>"
      ]
    },
    {
      "cell_type": "code",
      "metadata": {
        "id": "GWeeGsz1z1yg"
      },
      "source": [
        "dataset_path = '/content/drive/MyDrive/DATASETS/Airpassenger/AirPassengers.csv'"
      ],
      "execution_count": 94,
      "outputs": []
    },
    {
      "cell_type": "code",
      "metadata": {
        "id": "jCey8SLMsBze"
      },
      "source": [
        "import pandas as pd\r\n",
        "import numpy as np\r\n",
        "import matplotlib.pyplot as plt\r\n",
        "import seaborn as sns"
      ],
      "execution_count": 95,
      "outputs": []
    },
    {
      "cell_type": "code",
      "metadata": {
        "colab": {
          "base_uri": "https://localhost:8080/",
          "height": 204
        },
        "id": "uVl41UZeuQnU",
        "outputId": "096859a9-3218-4085-c9ef-4f9d43c779be"
      },
      "source": [
        "df = pd.read_csv(dataset_path)\r\n",
        "df.head()"
      ],
      "execution_count": 96,
      "outputs": [
        {
          "output_type": "execute_result",
          "data": {
            "text/html": [
              "<div>\n",
              "<style scoped>\n",
              "    .dataframe tbody tr th:only-of-type {\n",
              "        vertical-align: middle;\n",
              "    }\n",
              "\n",
              "    .dataframe tbody tr th {\n",
              "        vertical-align: top;\n",
              "    }\n",
              "\n",
              "    .dataframe thead th {\n",
              "        text-align: right;\n",
              "    }\n",
              "</style>\n",
              "<table border=\"1\" class=\"dataframe\">\n",
              "  <thead>\n",
              "    <tr style=\"text-align: right;\">\n",
              "      <th></th>\n",
              "      <th>Month</th>\n",
              "      <th>#Passengers</th>\n",
              "    </tr>\n",
              "  </thead>\n",
              "  <tbody>\n",
              "    <tr>\n",
              "      <th>0</th>\n",
              "      <td>1949-01</td>\n",
              "      <td>112</td>\n",
              "    </tr>\n",
              "    <tr>\n",
              "      <th>1</th>\n",
              "      <td>1949-02</td>\n",
              "      <td>118</td>\n",
              "    </tr>\n",
              "    <tr>\n",
              "      <th>2</th>\n",
              "      <td>1949-03</td>\n",
              "      <td>132</td>\n",
              "    </tr>\n",
              "    <tr>\n",
              "      <th>3</th>\n",
              "      <td>1949-04</td>\n",
              "      <td>129</td>\n",
              "    </tr>\n",
              "    <tr>\n",
              "      <th>4</th>\n",
              "      <td>1949-05</td>\n",
              "      <td>121</td>\n",
              "    </tr>\n",
              "  </tbody>\n",
              "</table>\n",
              "</div>"
            ],
            "text/plain": [
              "     Month  #Passengers\n",
              "0  1949-01          112\n",
              "1  1949-02          118\n",
              "2  1949-03          132\n",
              "3  1949-04          129\n",
              "4  1949-05          121"
            ]
          },
          "metadata": {
            "tags": []
          },
          "execution_count": 96
        }
      ]
    },
    {
      "cell_type": "code",
      "metadata": {
        "colab": {
          "base_uri": "https://localhost:8080/",
          "height": 204
        },
        "id": "FK01TfbWz9dw",
        "outputId": "b924dea9-2d8b-47a6-c121-0e53f961b278"
      },
      "source": [
        "df.tail()"
      ],
      "execution_count": 97,
      "outputs": [
        {
          "output_type": "execute_result",
          "data": {
            "text/html": [
              "<div>\n",
              "<style scoped>\n",
              "    .dataframe tbody tr th:only-of-type {\n",
              "        vertical-align: middle;\n",
              "    }\n",
              "\n",
              "    .dataframe tbody tr th {\n",
              "        vertical-align: top;\n",
              "    }\n",
              "\n",
              "    .dataframe thead th {\n",
              "        text-align: right;\n",
              "    }\n",
              "</style>\n",
              "<table border=\"1\" class=\"dataframe\">\n",
              "  <thead>\n",
              "    <tr style=\"text-align: right;\">\n",
              "      <th></th>\n",
              "      <th>Month</th>\n",
              "      <th>#Passengers</th>\n",
              "    </tr>\n",
              "  </thead>\n",
              "  <tbody>\n",
              "    <tr>\n",
              "      <th>139</th>\n",
              "      <td>1960-08</td>\n",
              "      <td>606</td>\n",
              "    </tr>\n",
              "    <tr>\n",
              "      <th>140</th>\n",
              "      <td>1960-09</td>\n",
              "      <td>508</td>\n",
              "    </tr>\n",
              "    <tr>\n",
              "      <th>141</th>\n",
              "      <td>1960-10</td>\n",
              "      <td>461</td>\n",
              "    </tr>\n",
              "    <tr>\n",
              "      <th>142</th>\n",
              "      <td>1960-11</td>\n",
              "      <td>390</td>\n",
              "    </tr>\n",
              "    <tr>\n",
              "      <th>143</th>\n",
              "      <td>1960-12</td>\n",
              "      <td>432</td>\n",
              "    </tr>\n",
              "  </tbody>\n",
              "</table>\n",
              "</div>"
            ],
            "text/plain": [
              "       Month  #Passengers\n",
              "139  1960-08          606\n",
              "140  1960-09          508\n",
              "141  1960-10          461\n",
              "142  1960-11          390\n",
              "143  1960-12          432"
            ]
          },
          "metadata": {
            "tags": []
          },
          "execution_count": 97
        }
      ]
    },
    {
      "cell_type": "code",
      "metadata": {
        "colab": {
          "base_uri": "https://localhost:8080/",
          "height": 282
        },
        "id": "G9aep4XF0Eig",
        "outputId": "cd9c2fed-2cac-4c30-e6ed-1a63eadfc799"
      },
      "source": [
        "plt.plot(df.iloc[:,1])"
      ],
      "execution_count": 98,
      "outputs": [
        {
          "output_type": "execute_result",
          "data": {
            "text/plain": [
              "[<matplotlib.lines.Line2D at 0x7fa4e4f63390>]"
            ]
          },
          "metadata": {
            "tags": []
          },
          "execution_count": 98
        },
        {
          "output_type": "display_data",
          "data": {
            "image/png": "[encoded data removed]",
            "text/plain": [
              "<Figure size 432x288 with 1 Axes>"
            ]
          },
          "metadata": {
            "tags": [],
            "needs_background": "light"
          }
        }
      ]
    },
    {
      "cell_type": "markdown",
      "metadata": {
        "id": "SpH1yK5B0SeA"
      },
      "source": [
        "# **Scaling**"
      ]
    },
    {
      "cell_type": "code",
      "metadata": {
        "id": "Ri5nHzh00Rey"
      },
      "source": [
        "from sklearn.preprocessing import MinMaxScaler"
      ],
      "execution_count": 99,
      "outputs": []
    },
    {
      "cell_type": "code",
      "metadata": {
        "id": "CiLGx1jJ0PCy"
      },
      "source": [
        "scaler = MinMaxScaler(feature_range=(0,1))\r\n",
        "df = scaler.fit_transform(df.iloc[:,1:])"
      ],
      "execution_count": 100,
      "outputs": []
    },
    {
      "cell_type": "code",
      "metadata": {
        "colab": {
          "base_uri": "https://localhost:8080/"
        },
        "id": "ETLBdkiZ0lKh",
        "outputId": "d611d714-ab25-4759-a73f-01965eca33d7"
      },
      "source": [
        "df.shape"
      ],
      "execution_count": 101,
      "outputs": [
        {
          "output_type": "execute_result",
          "data": {
            "text/plain": [
              "(144, 1)"
            ]
          },
          "metadata": {
            "tags": []
          },
          "execution_count": 101
        }
      ]
    },
    {
      "cell_type": "code",
      "metadata": {
        "colab": {
          "base_uri": "https://localhost:8080/"
        },
        "id": "jbBM63bb1JPU",
        "outputId": "be5927c4-c8c8-4df8-95bc-341876754b18"
      },
      "source": [
        "# Splitting the dataset into train and test\r\n",
        "train_size = int(len(df)*0.65)\r\n",
        "test_size = int(len(df)-train_size)\r\n",
        "train_size, test_size"
      ],
      "execution_count": 102,
      "outputs": [
        {
          "output_type": "execute_result",
          "data": {
            "text/plain": [
              "(93, 51)"
            ]
          },
          "metadata": {
            "tags": []
          },
          "execution_count": 102
        }
      ]
    },
    {
      "cell_type": "code",
      "metadata": {
        "colab": {
          "base_uri": "https://localhost:8080/"
        },
        "id": "-uTy0AxM1ZBK",
        "outputId": "bc2f95e5-ff50-4166-946f-d39606f9a91d"
      },
      "source": [
        "train_data, test_data = df[0:train_size,:], df[train_size:len(df),:1]\r\n",
        "train_data.shape, test_data.shape"
      ],
      "execution_count": 103,
      "outputs": [
        {
          "output_type": "execute_result",
          "data": {
            "text/plain": [
              "((93, 1), (51, 1))"
            ]
          },
          "metadata": {
            "tags": []
          },
          "execution_count": 103
        }
      ]
    },
    {
      "cell_type": "markdown",
      "metadata": {
        "id": "t53t3RA32CHo"
      },
      "source": [
        "# **Create Dataset for LSTM prediction**"
      ]
    },
    {
      "cell_type": "code",
      "metadata": {
        "id": "YlaLQ7Rt2Brw"
      },
      "source": [
        "def create_dataset(dataset, timestep=1):\r\n",
        "  dataX, dataY = [], []\r\n",
        "  for i in range(len(dataset)- timestep-1):\r\n",
        "    a = dataset[i:(i+ timestep), 0]\r\n",
        "    dataX.append(a)\r\n",
        "    b = dataset[i+ timestep, 0]\r\n",
        "    dataY.append(b)\r\n",
        "  return np.array(dataX),np.array(dataY)\r\n"
      ],
      "execution_count": 119,
      "outputs": []
    },
    {
      "cell_type": "code",
      "metadata": {
        "id": "24cOdEB21u1C"
      },
      "source": [
        "timestep = 4\r\n",
        "x_train, y_train = create_dataset(train_data, timestep)\r\n",
        "x_test, y_test = create_dataset(test_data, timestep)"
      ],
      "execution_count": 120,
      "outputs": []
    },
    {
      "cell_type": "code",
      "metadata": {
        "colab": {
          "base_uri": "https://localhost:8080/"
        },
        "id": "5s_ySx-_7gOJ",
        "outputId": "7bb9ef98-e7f5-40fc-d8c2-03412501ef9f"
      },
      "source": [
        "x_train.shape, y_train.shape , x_test.shape, y_test.shape"
      ],
      "execution_count": 121,
      "outputs": [
        {
          "output_type": "execute_result",
          "data": {
            "text/plain": [
              "((88, 4), (88,), (46, 4), (46,))"
            ]
          },
          "metadata": {
            "tags": []
          },
          "execution_count": 121
        }
      ]
    },
    {
      "cell_type": "code",
      "metadata": {
        "id": "bc5f2Btj8Ve6"
      },
      "source": [
        "# Reshaping dataset to [samples, timesteps, features]\r\n",
        "x_train = x_train.reshape(x_train.shape[0], 4, 1)\r\n",
        "x_test = x_test.reshape(x_test.shape[0], 4, 1)"
      ],
      "execution_count": 122,
      "outputs": []
    },
    {
      "cell_type": "code",
      "metadata": {
        "colab": {
          "base_uri": "https://localhost:8080/"
        },
        "id": "vuHyf4ey8NXK",
        "outputId": "766b93b5-508d-471b-e219-6a63751a2791"
      },
      "source": [
        "x_train.shape, x_test.shape"
      ],
      "execution_count": 123,
      "outputs": [
        {
          "output_type": "execute_result",
          "data": {
            "text/plain": [
              "((88, 4, 1), (46, 4, 1))"
            ]
          },
          "metadata": {
            "tags": []
          },
          "execution_count": 123
        }
      ]
    },
    {
      "cell_type": "code",
      "metadata": {
        "id": "C88elWfUASOD"
      },
      "source": [
        "# Create an LSTM Model\r\n",
        "from keras.layers import LSTM\r\n",
        "from keras.models import Sequential\r\n",
        "from keras.layers import Dense"
      ],
      "execution_count": 124,
      "outputs": []
    },
    {
      "cell_type": "code",
      "metadata": {
        "colab": {
          "base_uri": "https://localhost:8080/"
        },
        "id": "Qe7giYraAZuV",
        "outputId": "ce8817fb-6439-4616-ae85-1f6fe414837f"
      },
      "source": [
        "model = Sequential()\r\n",
        "model.add(LSTM(50, return_sequences=True, input_shape=(4,1)))\r\n",
        "model.add(LSTM(50))\r\n",
        "model.add(Dense(1))\r\n",
        "model.compile(loss='mean_squared_error', optimizer='adam')\r\n",
        "model.summary()"
      ],
      "execution_count": 125,
      "outputs": [
        {
          "output_type": "stream",
          "text": [
            "Model: \"sequential_5\"\n",
            "_________________________________________________________________\n",
            "Layer (type)                 Output Shape              Param #   \n",
            "=================================================================\n",
            "lstm_9 (LSTM)                (None, 4, 50)             10400     \n",
            "_________________________________________________________________\n",
            "lstm_10 (LSTM)               (None, 50)                20200     \n",
            "_________________________________________________________________\n",
            "dense_4 (Dense)              (None, 1)                 51        \n",
            "=================================================================\n",
            "Total params: 30,651\n",
            "Trainable params: 30,651\n",
            "Non-trainable params: 0\n",
            "_________________________________________________________________\n"
          ],
          "name": "stdout"
        }
      ]
    },
    {
      "cell_type": "code",
      "metadata": {
        "colab": {
          "base_uri": "https://localhost:8080/"
        },
        "id": "tPKw8X1KBCvq",
        "outputId": "901c3484-9f38-493a-f3bd-c01c7c26026c"
      },
      "source": [
        "model.fit(x_train, y_train, validation_data=(x_test, y_test), batch_size=1, epochs=100, verbose=1)"
      ],
      "execution_count": 126,
      "outputs": [
        {
          "output_type": "stream",
          "text": [
            "Epoch 1/100\n",
            "88/88 [==============================] - 4s 12ms/step - loss: 0.0170 - val_loss: 0.0336\n",
            "Epoch 2/100\n",
            "88/88 [==============================] - 0s 4ms/step - loss: 0.0067 - val_loss: 0.0303\n",
            "Epoch 3/100\n",
            "88/88 [==============================] - 0s 4ms/step - loss: 0.0066 - val_loss: 0.0293\n",
            "Epoch 4/100\n",
            "88/88 [==============================] - 0s 4ms/step - loss: 0.0052 - val_loss: 0.0337\n",
            "Epoch 5/100\n",
            "88/88 [==============================] - 0s 4ms/step - loss: 0.0051 - val_loss: 0.0249\n",
            "Epoch 6/100\n",
            "88/88 [==============================] - 0s 4ms/step - loss: 0.0058 - val_loss: 0.0258\n",
            "Epoch 7/100\n",
            "88/88 [==============================] - 0s 4ms/step - loss: 0.0064 - val_loss: 0.0251\n",
            "Epoch 8/100\n",
            "88/88 [==============================] - 0s 4ms/step - loss: 0.0043 - val_loss: 0.0232\n",
            "Epoch 9/100\n",
            "88/88 [==============================] - 0s 4ms/step - loss: 0.0037 - val_loss: 0.0300\n",
            "Epoch 10/100\n",
            "88/88 [==============================] - 0s 4ms/step - loss: 0.0087 - val_loss: 0.0281\n",
            "Epoch 11/100\n",
            "88/88 [==============================] - 0s 4ms/step - loss: 0.0052 - val_loss: 0.0224\n",
            "Epoch 12/100\n",
            "88/88 [==============================] - 0s 4ms/step - loss: 0.0031 - val_loss: 0.0210\n",
            "Epoch 13/100\n",
            "88/88 [==============================] - 0s 4ms/step - loss: 0.0052 - val_loss: 0.0182\n",
            "Epoch 14/100\n",
            "88/88 [==============================] - 0s 4ms/step - loss: 0.0039 - val_loss: 0.0258\n",
            "Epoch 15/100\n",
            "88/88 [==============================] - 0s 4ms/step - loss: 0.0034 - val_loss: 0.0170\n",
            "Epoch 16/100\n",
            "88/88 [==============================] - 0s 4ms/step - loss: 0.0046 - val_loss: 0.0151\n",
            "Epoch 17/100\n",
            "88/88 [==============================] - 0s 4ms/step - loss: 0.0043 - val_loss: 0.0190\n",
            "Epoch 18/100\n",
            "88/88 [==============================] - 0s 4ms/step - loss: 0.0034 - val_loss: 0.0138\n",
            "Epoch 19/100\n",
            "88/88 [==============================] - 0s 4ms/step - loss: 0.0030 - val_loss: 0.0132\n",
            "Epoch 20/100\n",
            "88/88 [==============================] - 0s 4ms/step - loss: 0.0026 - val_loss: 0.0089\n",
            "Epoch 21/100\n",
            "88/88 [==============================] - 0s 4ms/step - loss: 0.0029 - val_loss: 0.0200\n",
            "Epoch 22/100\n",
            "88/88 [==============================] - 0s 4ms/step - loss: 0.0029 - val_loss: 0.0081\n",
            "Epoch 23/100\n",
            "88/88 [==============================] - 0s 4ms/step - loss: 0.0024 - val_loss: 0.0066\n",
            "Epoch 24/100\n",
            "88/88 [==============================] - 0s 4ms/step - loss: 0.0026 - val_loss: 0.0084\n",
            "Epoch 25/100\n",
            "88/88 [==============================] - 0s 4ms/step - loss: 0.0027 - val_loss: 0.0129\n",
            "Epoch 26/100\n",
            "88/88 [==============================] - 0s 4ms/step - loss: 0.0017 - val_loss: 0.0090\n",
            "Epoch 27/100\n",
            "88/88 [==============================] - 0s 4ms/step - loss: 0.0019 - val_loss: 0.0094\n",
            "Epoch 28/100\n",
            "88/88 [==============================] - 0s 4ms/step - loss: 0.0021 - val_loss: 0.0107\n",
            "Epoch 29/100\n",
            "88/88 [==============================] - 0s 4ms/step - loss: 0.0016 - val_loss: 0.0081\n",
            "Epoch 30/100\n",
            "88/88 [==============================] - 0s 4ms/step - loss: 0.0017 - val_loss: 0.0105\n",
            "Epoch 31/100\n",
            "88/88 [==============================] - 0s 4ms/step - loss: 0.0021 - val_loss: 0.0123\n",
            "Epoch 32/100\n",
            "88/88 [==============================] - 0s 4ms/step - loss: 0.0025 - val_loss: 0.0101\n",
            "Epoch 33/100\n",
            "88/88 [==============================] - 0s 4ms/step - loss: 0.0015 - val_loss: 0.0081\n",
            "Epoch 34/100\n",
            "88/88 [==============================] - 0s 4ms/step - loss: 0.0020 - val_loss: 0.0088\n",
            "Epoch 35/100\n",
            "88/88 [==============================] - 0s 4ms/step - loss: 0.0019 - val_loss: 0.0086\n",
            "Epoch 36/100\n",
            "88/88 [==============================] - 0s 4ms/step - loss: 0.0020 - val_loss: 0.0169\n",
            "Epoch 37/100\n",
            "88/88 [==============================] - 0s 4ms/step - loss: 0.0016 - val_loss: 0.0095\n",
            "Epoch 38/100\n",
            "88/88 [==============================] - 0s 4ms/step - loss: 0.0020 - val_loss: 0.0078\n",
            "Epoch 39/100\n",
            "88/88 [==============================] - 0s 4ms/step - loss: 0.0023 - val_loss: 0.0137\n",
            "Epoch 40/100\n",
            "88/88 [==============================] - 0s 4ms/step - loss: 0.0024 - val_loss: 0.0113\n",
            "Epoch 41/100\n",
            "88/88 [==============================] - 0s 4ms/step - loss: 0.0015 - val_loss: 0.0094\n",
            "Epoch 42/100\n",
            "88/88 [==============================] - 0s 4ms/step - loss: 0.0018 - val_loss: 0.0099\n",
            "Epoch 43/100\n",
            "88/88 [==============================] - 0s 4ms/step - loss: 0.0021 - val_loss: 0.0144\n",
            "Epoch 44/100\n",
            "88/88 [==============================] - 0s 4ms/step - loss: 0.0022 - val_loss: 0.0095\n",
            "Epoch 45/100\n",
            "88/88 [==============================] - 0s 4ms/step - loss: 0.0022 - val_loss: 0.0088\n",
            "Epoch 46/100\n",
            "88/88 [==============================] - 0s 4ms/step - loss: 0.0018 - val_loss: 0.0196\n",
            "Epoch 47/100\n",
            "88/88 [==============================] - 0s 4ms/step - loss: 0.0027 - val_loss: 0.0082\n",
            "Epoch 48/100\n",
            "88/88 [==============================] - 0s 4ms/step - loss: 0.0022 - val_loss: 0.0091\n",
            "Epoch 49/100\n",
            "88/88 [==============================] - 0s 4ms/step - loss: 0.0019 - val_loss: 0.0124\n",
            "Epoch 50/100\n",
            "88/88 [==============================] - 0s 4ms/step - loss: 0.0019 - val_loss: 0.0162\n",
            "Epoch 51/100\n",
            "88/88 [==============================] - 0s 4ms/step - loss: 0.0018 - val_loss: 0.0156\n",
            "Epoch 52/100\n",
            "88/88 [==============================] - 0s 4ms/step - loss: 0.0017 - val_loss: 0.0091\n",
            "Epoch 53/100\n",
            "88/88 [==============================] - 0s 4ms/step - loss: 0.0018 - val_loss: 0.0078\n",
            "Epoch 54/100\n",
            "88/88 [==============================] - 0s 4ms/step - loss: 0.0020 - val_loss: 0.0099\n",
            "Epoch 55/100\n",
            "88/88 [==============================] - 0s 4ms/step - loss: 0.0017 - val_loss: 0.0109\n",
            "Epoch 56/100\n",
            "88/88 [==============================] - 0s 4ms/step - loss: 0.0020 - val_loss: 0.0141\n",
            "Epoch 57/100\n",
            "88/88 [==============================] - 0s 4ms/step - loss: 0.0018 - val_loss: 0.0124\n",
            "Epoch 58/100\n",
            "88/88 [==============================] - 0s 4ms/step - loss: 0.0019 - val_loss: 0.0079\n",
            "Epoch 59/100\n",
            "88/88 [==============================] - 0s 4ms/step - loss: 0.0017 - val_loss: 0.0136\n",
            "Epoch 60/100\n",
            "88/88 [==============================] - 0s 4ms/step - loss: 0.0021 - val_loss: 0.0185\n",
            "Epoch 61/100\n",
            "88/88 [==============================] - 0s 4ms/step - loss: 0.0017 - val_loss: 0.0096\n",
            "Epoch 62/100\n",
            "88/88 [==============================] - 0s 4ms/step - loss: 0.0020 - val_loss: 0.0112\n",
            "Epoch 63/100\n",
            "88/88 [==============================] - 0s 4ms/step - loss: 0.0020 - val_loss: 0.0095\n",
            "Epoch 64/100\n",
            "88/88 [==============================] - 0s 4ms/step - loss: 0.0017 - val_loss: 0.0088\n",
            "Epoch 65/100\n",
            "88/88 [==============================] - 0s 4ms/step - loss: 0.0017 - val_loss: 0.0119\n",
            "Epoch 66/100\n",
            "88/88 [==============================] - 0s 4ms/step - loss: 0.0017 - val_loss: 0.0129\n",
            "Epoch 67/100\n",
            "88/88 [==============================] - 0s 4ms/step - loss: 0.0022 - val_loss: 0.0093\n",
            "Epoch 68/100\n",
            "88/88 [==============================] - 0s 4ms/step - loss: 0.0018 - val_loss: 0.0232\n",
            "Epoch 69/100\n",
            "88/88 [==============================] - 0s 4ms/step - loss: 0.0019 - val_loss: 0.0074\n",
            "Epoch 70/100\n",
            "88/88 [==============================] - 0s 4ms/step - loss: 0.0016 - val_loss: 0.0111\n",
            "Epoch 71/100\n",
            "88/88 [==============================] - 0s 4ms/step - loss: 0.0017 - val_loss: 0.0197\n",
            "Epoch 72/100\n",
            "88/88 [==============================] - 0s 4ms/step - loss: 0.0022 - val_loss: 0.0111\n",
            "Epoch 73/100\n",
            "88/88 [==============================] - 0s 4ms/step - loss: 0.0016 - val_loss: 0.0075\n",
            "Epoch 74/100\n",
            "88/88 [==============================] - 0s 4ms/step - loss: 0.0027 - val_loss: 0.0080\n",
            "Epoch 75/100\n",
            "88/88 [==============================] - 0s 4ms/step - loss: 0.0019 - val_loss: 0.0111\n",
            "Epoch 76/100\n",
            "88/88 [==============================] - 0s 4ms/step - loss: 0.0015 - val_loss: 0.0118\n",
            "Epoch 77/100\n",
            "88/88 [==============================] - 0s 4ms/step - loss: 0.0016 - val_loss: 0.0173\n",
            "Epoch 78/100\n",
            "88/88 [==============================] - 0s 4ms/step - loss: 0.0019 - val_loss: 0.0080\n",
            "Epoch 79/100\n",
            "88/88 [==============================] - 0s 4ms/step - loss: 0.0019 - val_loss: 0.0266\n",
            "Epoch 80/100\n",
            "88/88 [==============================] - 0s 4ms/step - loss: 0.0020 - val_loss: 0.0170\n",
            "Epoch 81/100\n",
            "88/88 [==============================] - 0s 4ms/step - loss: 0.0015 - val_loss: 0.0079\n",
            "Epoch 82/100\n",
            "88/88 [==============================] - 0s 4ms/step - loss: 0.0018 - val_loss: 0.0083\n",
            "Epoch 83/100\n",
            "88/88 [==============================] - 0s 4ms/step - loss: 0.0018 - val_loss: 0.0081\n",
            "Epoch 84/100\n",
            "88/88 [==============================] - 0s 4ms/step - loss: 0.0018 - val_loss: 0.0085\n",
            "Epoch 85/100\n",
            "88/88 [==============================] - 0s 4ms/step - loss: 0.0018 - val_loss: 0.0177\n",
            "Epoch 86/100\n",
            "88/88 [==============================] - 0s 4ms/step - loss: 0.0016 - val_loss: 0.0122\n",
            "Epoch 87/100\n",
            "88/88 [==============================] - 0s 4ms/step - loss: 0.0019 - val_loss: 0.0111\n",
            "Epoch 88/100\n",
            "88/88 [==============================] - 0s 4ms/step - loss: 0.0016 - val_loss: 0.0087\n",
            "Epoch 89/100\n",
            "88/88 [==============================] - 0s 4ms/step - loss: 0.0021 - val_loss: 0.0081\n",
            "Epoch 90/100\n",
            "88/88 [==============================] - 0s 4ms/step - loss: 0.0021 - val_loss: 0.0169\n",
            "Epoch 91/100\n",
            "88/88 [==============================] - 0s 4ms/step - loss: 0.0017 - val_loss: 0.0109\n",
            "Epoch 92/100\n",
            "88/88 [==============================] - 0s 4ms/step - loss: 0.0018 - val_loss: 0.0131\n",
            "Epoch 93/100\n",
            "88/88 [==============================] - 0s 4ms/step - loss: 0.0019 - val_loss: 0.0099\n",
            "Epoch 94/100\n",
            "88/88 [==============================] - 0s 4ms/step - loss: 0.0023 - val_loss: 0.0080\n",
            "Epoch 95/100\n",
            "88/88 [==============================] - 0s 4ms/step - loss: 0.0017 - val_loss: 0.0193\n",
            "Epoch 96/100\n",
            "88/88 [==============================] - 0s 4ms/step - loss: 0.0021 - val_loss: 0.0193\n",
            "Epoch 97/100\n",
            "88/88 [==============================] - 0s 4ms/step - loss: 0.0024 - val_loss: 0.0160\n",
            "Epoch 98/100\n",
            "88/88 [==============================] - 0s 4ms/step - loss: 0.0016 - val_loss: 0.0111\n",
            "Epoch 99/100\n",
            "88/88 [==============================] - 0s 4ms/step - loss: 0.0017 - val_loss: 0.0341\n",
            "Epoch 100/100\n",
            "88/88 [==============================] - 0s 4ms/step - loss: 0.0018 - val_loss: 0.0171\n"
          ],
          "name": "stdout"
        },
        {
          "output_type": "execute_result",
          "data": {
            "text/plain": [
              "<tensorflow.python.keras.callbacks.History at 0x7fa4e17e5590>"
            ]
          },
          "metadata": {
            "tags": []
          },
          "execution_count": 126
        }
      ]
    },
    {
      "cell_type": "code",
      "metadata": {
        "id": "gLT4ThcuDGxH"
      },
      "source": [
        "train_predict = model.predict(x_train)\r\n",
        "test_predict = model.predict(x_test)"
      ],
      "execution_count": 127,
      "outputs": []
    },
    {
      "cell_type": "code",
      "metadata": {
        "id": "SYJKA0S3GO39"
      },
      "source": [
        "train_predict_inverse = scaler.inverse_transform(train_predict)\r\n",
        "test_predict_inverse = scaler.inverse_transform(test_predict)"
      ],
      "execution_count": 128,
      "outputs": []
    },
    {
      "cell_type": "code",
      "metadata": {
        "colab": {
          "base_uri": "https://localhost:8080/"
        },
        "id": "IM2CnjOsMLQi",
        "outputId": "a0ed9148-cda2-42e3-a6ce-138dc9f068cd"
      },
      "source": [
        "train_predict_inverse"
      ],
      "execution_count": 129,
      "outputs": [
        {
          "output_type": "execute_result",
          "data": {
            "text/plain": [
              "array([[124.847885],\n",
              "       [119.17732 ],\n",
              "       [131.41455 ],\n",
              "       [142.29607 ],\n",
              "       [142.59357 ],\n",
              "       [133.25034 ],\n",
              "       [119.46896 ],\n",
              "       [106.4536  ],\n",
              "       [115.86956 ],\n",
              "       [112.363   ],\n",
              "       [121.526634],\n",
              "       [135.14528 ],\n",
              "       [130.53223 ],\n",
              "       [123.38133 ],\n",
              "       [144.64702 ],\n",
              "       [162.6899  ],\n",
              "       [162.49544 ],\n",
              "       [153.37581 ],\n",
              "       [132.32228 ],\n",
              "       [116.6783  ],\n",
              "       [137.07516 ],\n",
              "       [139.31267 ],\n",
              "       [144.54813 ],\n",
              "       [171.9572  ],\n",
              "       [155.5822  ],\n",
              "       [168.2416  ],\n",
              "       [172.90433 ],\n",
              "       [193.52571 ],\n",
              "       [190.52959 ],\n",
              "       [177.01044 ],\n",
              "       [158.61311 ],\n",
              "       [145.6113  ],\n",
              "       [163.87318 ],\n",
              "       [164.99638 ],\n",
              "       [174.1051  ],\n",
              "       [187.08163 ],\n",
              "       [173.46129 ],\n",
              "       [179.10065 ],\n",
              "       [214.87518 ],\n",
              "       [219.96051 ],\n",
              "       [233.90353 ],\n",
              "       [193.58475 ],\n",
              "       [187.37332 ],\n",
              "       [168.86725 ],\n",
              "       [192.63924 ],\n",
              "       [188.49301 ],\n",
              "       [189.49106 ],\n",
              "       [234.02386 ],\n",
              "       [221.22864 ],\n",
              "       [219.72865 ],\n",
              "       [238.64653 ],\n",
              "       [257.58606 ],\n",
              "       [259.91623 ],\n",
              "       [216.16235 ],\n",
              "       [204.16626 ],\n",
              "       [174.72368 ],\n",
              "       [201.68771 ],\n",
              "       [196.50244 ],\n",
              "       [180.1563  ],\n",
              "       [235.68565 ],\n",
              "       [211.78787 ],\n",
              "       [228.07924 ],\n",
              "       [260.9703  ],\n",
              "       [297.11545 ],\n",
              "       [267.90863 ],\n",
              "       [238.39388 ],\n",
              "       [218.05934 ],\n",
              "       [196.02475 ],\n",
              "       [230.29474 ],\n",
              "       [233.12457 ],\n",
              "       [220.66605 ],\n",
              "       [267.39023 ],\n",
              "       [252.71623 ],\n",
              "       [259.36633 ],\n",
              "       [318.55765 ],\n",
              "       [358.0888  ],\n",
              "       [301.78482 ],\n",
              "       [284.76993 ],\n",
              "       [249.91557 ],\n",
              "       [221.14432 ],\n",
              "       [286.50598 ],\n",
              "       [265.44965 ],\n",
              "       [262.07587 ],\n",
              "       [320.7956  ],\n",
              "       [284.0623  ],\n",
              "       [307.2702  ],\n",
              "       [381.91403 ],\n",
              "       [388.26846 ]], dtype=float32)"
            ]
          },
          "metadata": {
            "tags": []
          },
          "execution_count": 129
        }
      ]
    },
    {
      "cell_type": "code",
      "metadata": {
        "colab": {
          "base_uri": "https://localhost:8080/"
        },
        "id": "MwkrL1qqGSvm",
        "outputId": "ccfc5b70-338a-4c95-c7dd-0ef595fdc45d"
      },
      "source": [
        "test_predict_inverse"
      ],
      "execution_count": 130,
      "outputs": [
        {
          "output_type": "execute_result",
          "data": {
            "text/plain": [
              "array([[292.8187 ],\n",
              "       [278.6173 ],\n",
              "       [369.68127],\n",
              "       [300.94217],\n",
              "       [345.37668],\n",
              "       [433.3102 ],\n",
              "       [422.4554 ],\n",
              "       [407.00964],\n",
              "       [307.78275],\n",
              "       [297.19736],\n",
              "       [263.85898],\n",
              "       [339.66187],\n",
              "       [307.4183 ],\n",
              "       [288.6828 ],\n",
              "       [372.6352 ],\n",
              "       [296.8745 ],\n",
              "       [358.67148],\n",
              "       [444.8063 ],\n",
              "       [452.87634],\n",
              "       [437.90393],\n",
              "       [258.52084],\n",
              "       [339.32684],\n",
              "       [244.61426],\n",
              "       [341.65463],\n",
              "       [336.54022],\n",
              "       [303.1219 ],\n",
              "       [429.807  ],\n",
              "       [320.49362],\n",
              "       [420.2334 ],\n",
              "       [448.98886],\n",
              "       [522.92804],\n",
              "       [428.141  ],\n",
              "       [296.81915],\n",
              "       [348.67834],\n",
              "       [267.3641 ],\n",
              "       [406.45044],\n",
              "       [353.8682 ],\n",
              "       [337.1722 ],\n",
              "       [416.41055],\n",
              "       [423.11945],\n",
              "       [404.8413 ],\n",
              "       [532.20935],\n",
              "       [550.11957],\n",
              "       [379.7224 ],\n",
              "       [330.8419 ],\n",
              "       [349.78098]], dtype=float32)"
            ]
          },
          "metadata": {
            "tags": []
          },
          "execution_count": 130
        }
      ]
    },
    {
      "cell_type": "code",
      "metadata": {
        "id": "wftQ76EnHQ6z"
      },
      "source": [
        "import math\r\n",
        "from sklearn.metrics import mean_squared_error"
      ],
      "execution_count": 131,
      "outputs": []
    },
    {
      "cell_type": "code",
      "metadata": {
        "colab": {
          "base_uri": "https://localhost:8080/"
        },
        "id": "o5yQAayXH8t4",
        "outputId": "6b32f542-aa50-45c6-be80-4adc77ffbcae"
      },
      "source": [
        "math.sqrt(mean_squared_error(y_test, test_predict_inverse))"
      ],
      "execution_count": 132,
      "outputs": [
        {
          "output_type": "execute_result",
          "data": {
            "text/plain": [
              "372.02575151399367"
            ]
          },
          "metadata": {
            "tags": []
          },
          "execution_count": 132
        }
      ]
    },
    {
      "cell_type": "code",
      "metadata": {
        "colab": {
          "base_uri": "https://localhost:8080/",
          "height": 265
        },
        "id": "Njf61a6BILAB",
        "outputId": "2aa1187f-9c04-4c74-9859-a91875b7b8f5"
      },
      "source": [
        "# Plotting\r\n",
        "look_back = 4\r\n",
        "trainPredictPlot = np.empty_like(df)\r\n",
        "trainPredictPlot[:,:] = np.nan\r\n",
        "trainPredictPlot[look_back:len(train_predict) + lookback, :] = train_predict_inverse\r\n",
        "\r\n",
        "# shift test predictions for plotting\r\n",
        "testPredictPlot = np.empty_like(df)\r\n",
        "testPredictPlot[:, :] = np.nan\r\n",
        "testPredictPlot[len(train_predict)+(look_back*2)+1:len(df)-1, :] = test_predict_inverse\r\n",
        "# plot baseline and predictions\r\n",
        "plt.plot(scaler.inverse_transform(df))\r\n",
        "plt.plot(trainPredictPlot, label='Train_prediction')\r\n",
        "plt.plot(testPredictPlot, label=\"Test_predictions\")\r\n",
        "plt.legend()\r\n",
        "plt.show()"
      ],
      "execution_count": 133,
      "outputs": [
        {
          "output_type": "display_data",
          "data": {
            "image/png": "[encoded data removed]",
            "text/plain": [
              "<Figure size 432x288 with 1 Axes>"
            ]
          },
          "metadata": {
            "tags": [],
            "needs_background": "light"
          }
        }
      ]
    },
    {
      "cell_type": "code",
      "metadata": {
        "id": "x6pwj84qLqzo"
      },
      "source": [
        ""
      ],
      "execution_count": 133,
      "outputs": []
    }
  ]
}